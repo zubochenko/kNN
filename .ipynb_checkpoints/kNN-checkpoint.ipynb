{
 "cells": [
  {
   "cell_type": "code",
   "execution_count": null,
   "metadata": {},
   "outputs": [],
   "source": [
    "\"\"\"\n",
    "kNN(train, test, k, distance)\n",
    "\n",
    "train - train data\n",
    "test - classifying object without target mark\n",
    "k - number of k's neighbors\n",
    "distance - 'euclid' or 'manhattan' distance\n",
    "\"\"\""
   ]
  },
  {
   "cell_type": "code",
   "execution_count": 1,
   "metadata": {},
   "outputs": [],
   "source": [
    "import math\n",
    "import seaborn as sns\n",
    "import numpy as np\n",
    "from matplotlib.colors import ListedColormap\n"
   ]
  },
  {
   "cell_type": "code",
   "execution_count": 2,
   "metadata": {},
   "outputs": [],
   "source": [
    "def kNN(train, test, k, distance): \n",
    "    \n",
    "    def euclid(train, test, length):\n",
    "        dist = 0\n",
    "        for x in range(length-1):\n",
    "            dist += (math.sqrt((train[x] - test[x])**2 + (train[x+1] - test[x+1])**2))\n",
    "        return dist\n",
    "\n",
    "    def manhattan(train, test, length):\n",
    "        dist = 0\n",
    "        for x in range(length-1):\n",
    "            dist += sum(abs(train[x]-test[x]) for train[x],test[x] in zip(train,test))\n",
    "        return dist\n",
    "\n",
    "    def getter(train, test, k):\n",
    "        distances = []\n",
    "        length = len(test)\n",
    "        for x in range(len(train)):\n",
    "            dist = euclid(test, train[x], length)\n",
    "            distances.append((train[x], dist))\n",
    "        distances.sort(key=lambda j: j[1])\n",
    "        NN = []\n",
    "        for x in range(k):\n",
    "            NN.append(distances[x][0])\n",
    "        return NN\n",
    "    def classFinder(nn):\n",
    "        diction = {}\n",
    "        for i in range(len(nn)):\n",
    "            k = nn[i][-1]\n",
    "            if k in diction:\n",
    "                diction[k] += 1\n",
    "            else:\n",
    "                diction[k] = 1\n",
    "        diction = sorted(diction.items(), key=lambda j: j[1], reverse=True)\n",
    "        return diction[0][0]\n",
    "    \n",
    "    return classFinder(getter(train, test, k))"
   ]
  },
  {
   "cell_type": "code",
   "execution_count": 3,
   "metadata": {},
   "outputs": [],
   "source": [
    "prediction = []\n",
    "def getAccuracy(test, prediction, distance):\n",
    "    \n",
    "    def answers(test, prediction):\n",
    "        for x in range(len(test)):\n",
    "            res = kNN(iris.values, iris.values[x][:4], 3, distance)\n",
    "            prediction.append(res)\n",
    "        return prediction\n",
    "    answers(iris.values, prediction)\n",
    "\n",
    "    def getpercent(test, predictions):\n",
    "        correctAnswer = 0\n",
    "        for x in range(len(test)):\n",
    "            if test[x][-1] == predictions[x]:\n",
    "                correctAnswer += 1\n",
    "        return (correctAnswer/float(len(test))) * 100.0\n",
    "    \n",
    "    return getpercent(test, answers(test, prediction))"
   ]
  },
  {
   "cell_type": "code",
   "execution_count": 4,
   "metadata": {},
   "outputs": [],
   "source": [
    "iris = sns.load_dataset(\"iris\")"
   ]
  },
  {
   "cell_type": "code",
   "execution_count": 5,
   "metadata": {},
   "outputs": [
    {
     "data": {
      "text/plain": [
       "'setosa'"
      ]
     },
     "execution_count": 5,
     "metadata": {},
     "output_type": "execute_result"
    }
   ],
   "source": [
    "kNN (iris.values, iris.values[13][:4], 3, 'manhattan')\n"
   ]
  },
  {
   "cell_type": "code",
   "execution_count": 6,
   "metadata": {},
   "outputs": [
    {
     "data": {
      "text/plain": [
       "97.33333333333334"
      ]
     },
     "execution_count": 6,
     "metadata": {},
     "output_type": "execute_result"
    }
   ],
   "source": [
    "getAccuracy(iris.values, prediction, 'manhattan')"
   ]
  },
  {
   "cell_type": "code",
   "execution_count": null,
   "metadata": {},
   "outputs": [],
   "source": []
  },
  {
   "cell_type": "code",
   "execution_count": null,
   "metadata": {},
   "outputs": [],
   "source": []
  }
 ],
 "metadata": {
  "kernelspec": {
   "display_name": "Python 3",
   "language": "python",
   "name": "python3"
  },
  "language_info": {
   "codemirror_mode": {
    "name": "ipython",
    "version": 3
   },
   "file_extension": ".py",
   "mimetype": "text/x-python",
   "name": "python",
   "nbconvert_exporter": "python",
   "pygments_lexer": "ipython3",
   "version": "3.6.5"
  }
 },
 "nbformat": 4,
 "nbformat_minor": 2
}
