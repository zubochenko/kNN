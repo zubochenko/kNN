{
 "cells": [
  {
   "cell_type": "code",
   "execution_count": 19,
   "metadata": {},
   "outputs": [],
   "source": [
    "import math\n",
    "import matplotlib.pyplot as plt\n",
    "import seaborn as sns\n",
    "import numpy as np\n",
    "from matplotlib.colors import ListedColormap\n",
    "from sklearn.datasets import load_iris\n"
   ]
  },
  {
   "cell_type": "code",
   "execution_count": 24,
   "metadata": {},
   "outputs": [],
   "source": [
    "def kNN(train, test, k, distance): \n",
    "    \n",
    "    def euclid(train, test, length):\n",
    "        dist = 0\n",
    "        for x in range(length-1):\n",
    "            dist += (math.sqrt((train[x] - test[x])**2 + (train[x+1] - test[x+1])**2))\n",
    "        return dist\n",
    "\n",
    "    def manhattan(train, test, length):\n",
    "        dist = 0\n",
    "        for x in range(length-1):\n",
    "            dist += sum(abs(train[x]-test[x]) for train[x],test[x] in zip(train,test))\n",
    "        return dist\n",
    "\n",
    "    def getter(train, test, k):\n",
    "        distances = []\n",
    "        length = len(test)\n",
    "        for x in range(len(train)):\n",
    "            dist = euclid(test, train[x], length)\n",
    "            distances.append((train[x], dist))\n",
    "        distances.sort(key=lambda j: j[1])\n",
    "        NN = []\n",
    "        for x in range(k):\n",
    "            NN.append(distances[x][0])\n",
    "        return NN\n",
    "    def classFinder(nn):\n",
    "        diction = {}\n",
    "        for i in range(len(nn)):\n",
    "            k = nn[i][-1]\n",
    "            if k in diction:\n",
    "                diction[k] += 1\n",
    "            else:\n",
    "                diction[k] = 1\n",
    "        diction = sorted(diction.items(), key=lambda j: j[1], reverse=True)\n",
    "        return diction[0][0]\n",
    "    \n",
    "    return classFinder(getter(train, test, k))"
   ]
  },
  {
   "cell_type": "code",
   "execution_count": 21,
   "metadata": {},
   "outputs": [
    {
     "data": {
      "image/png": "[encoded data removed]",
      "text/plain": [
       "<Figure size 360x360 with 1 Axes>"
      ]
     },
     "metadata": {},
     "output_type": "display_data"
    }
   ],
   "source": [
    "iris = load_iris()\n",
    "iris = sns.load_dataset(\"iris\")\n",
    "iris[\"ID\"] = iris.index\n",
    "iris[\"ratio\"] = iris[\"sepal_length\"]/iris[\"sepal_width\"]\n",
    "\n",
    "sns.lmplot(x=\"ID\", y=\"ratio\", data=iris, hue=\"species\", fit_reg=False, legend=False)\n",
    "plt.legend()\n",
    "plt.show()\n",
    "\n",
    "del iris['ratio']\n",
    "del iris['ID']"
   ]
  },
  {
   "cell_type": "code",
   "execution_count": 22,
   "metadata": {},
   "outputs": [],
   "source": [
    "iris = iris.values.tolist()"
   ]
  },
  {
   "cell_type": "code",
   "execution_count": 26,
   "metadata": {},
   "outputs": [
    {
     "data": {
      "text/plain": [
       "'versicolor'"
      ]
     },
     "execution_count": 26,
     "metadata": {},
     "output_type": "execute_result"
    }
   ],
   "source": [
    "kNN (iris, iris[52][:4], 3, 'euclid')"
   ]
  },
  {
   "cell_type": "code",
   "execution_count": null,
   "metadata": {},
   "outputs": [],
   "source": []
  }
 ],
 "metadata": {
  "kernelspec": {
   "display_name": "Python 3",
   "language": "python",
   "name": "python3"
  },
  "language_info": {
   "codemirror_mode": {
    "name": "ipython",
    "version": 3
   },
   "file_extension": ".py",
   "mimetype": "text/x-python",
   "name": "python",
   "nbconvert_exporter": "python",
   "pygments_lexer": "ipython3",
   "version": "3.6.5"
  }
 },
 "nbformat": 4,
 "nbformat_minor": 2
}
