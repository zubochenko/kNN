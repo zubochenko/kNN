{
 "cells": [
  {
   "cell_type": "code",
   "execution_count": 2,
   "metadata": {},
   "outputs": [],
   "source": [
    "import random\n",
    "import math\n",
    "import pylab as pl\n",
    "import matplotlib.pyplot as plt\n",
    "import seaborn as sns\n",
    "import numpy as np\n",
    "from matplotlib.colors import ListedColormap\n",
    "from sklearn.datasets import load_iris\n",
    "from sklearn.model_selection import train_test_split"
   ]
  },
  {
   "cell_type": "code",
   "execution_count": 3,
   "metadata": {},
   "outputs": [],
   "source": [
    "train = [[2, 2, 2, 'a'], [4, 4, 4, 'b'], [1, 1, 1, 'b'], [10, 1, 1, 'a'], [43, 4, 4, 'b']]\n",
    "test = [5, 5, 5]\n"
   ]
  },
  {
   "cell_type": "code",
   "execution_count": 5,
   "metadata": {},
   "outputs": [],
   "source": [
    "def kNN(train, test, k, distance): \n",
    "    def euclid(train, test, length):\n",
    "        dist = 0\n",
    "        for x in range(length-1):\n",
    "            dist += (math.sqrt((train[x] - test[x])**2 + (train[x+1] - test[x+1])**2))\n",
    "        return dist\n",
    "\n",
    "    def manhattan(train, test, length):\n",
    "        dist = 0\n",
    "        for x in range(length-1):\n",
    "            dist += sum(abs(train[x]-test[x]) for train[x],test[x] in zip(train,test))\n",
    "        return dist\n",
    "\n",
    "    def getter(train, test, k):\n",
    "        distances = []\n",
    "        length = len(test)\n",
    "        for x in range(len(train)):\n",
    "            dist = euclid(test, train[x], length)\n",
    "            distances.append((train[x], dist))\n",
    "        distances.sort(key=lambda j: j[1])\n",
    "        NN = []\n",
    "        for x in range(k):\n",
    "            NN.append(distances[x][0])\n",
    "        return NN"
   ]
  },
  {
   "cell_type": "code",
   "execution_count": null,
   "metadata": {},
   "outputs": [],
   "source": [
    "iris = load_iris()\n",
    "X_train, X_test, y_train, y_test = train_test_split(np.array(iris.data), np.array(iris.target), train_size=0.25)\n",
    "iris = sns.load_dataset(\"iris\")\n",
    "iris[\"ID\"] = iris.index\n",
    "iris[\"ratio\"] = iris[\"sepal_length\"]/iris[\"sepal_width\"]\n",
    "\n",
    "sns.lmplot(x=\"ID\", y=\"ratio\", data=iris, hue=\"species\", fit_reg=False, legend=False)\n",
    "plt.legend()\n",
    "plt.show()"
   ]
  },
  {
   "cell_type": "code",
   "execution_count": null,
   "metadata": {},
   "outputs": [],
   "source": [
    "def euclid(train, test, length):\n",
    "    dist = 0\n",
    "    for x in range(length-1):\n",
    "        dist += (math.sqrt((train[x] - test[x])**2 + (train[x+1] - test[x+1])**2))\n",
    "    return dist\n",
    "def manhattan(train, test, length):\n",
    "    dist = 0\n",
    "    for x in range(length-1):\n",
    "        dist += sum(abs(train[x]-test[x]) for train[x],test[x] in zip(train,test))\n",
    "    return dist\n"
   ]
  },
  {
   "cell_type": "code",
   "execution_count": null,
   "metadata": {},
   "outputs": [],
   "source": [
    "def getter(train, test, k, distance):\n",
    "    distances = []\n",
    "    length = len(test)\n",
    "    for x in range(len(train)):\n",
    "        if distance == 'euclid':\n",
    "            dist = euclid(test, train[x], length)\n",
    "            distances.append((train[x], dist))\n",
    "        elif distance == 'manhattan':\n",
    "            dist = manhattan(test, train[x], length)\n",
    "            distances.append((train[x], dist))\n",
    "    distances.sort(key=lambda j: j[1])\n",
    "    NN = []\n",
    "    for x in range(k):\n",
    "        NN.append(distances[x][0])\n",
    "    return NN"
   ]
  },
  {
   "cell_type": "code",
   "execution_count": null,
   "metadata": {},
   "outputs": [],
   "source": [
    "NN = getter(train, test, 5, 'manhattan')\n",
    "print(NN)"
   ]
  },
  {
   "cell_type": "code",
   "execution_count": null,
   "metadata": {},
   "outputs": [],
   "source": [
    "def getResponse(neighbors):\n",
    "    classVotes = [{}]\n",
    "    for x in range(len(neighbors)):\n",
    "        response = neighbors[x][-1]\n",
    "        if response in classVotes:\n",
    "            classVotes[response] += 1\n",
    "        else:\n",
    "            classVotes[response] = 1\n",
    "    sortedVotes = sorted(classVotes.iteritems(), key=operator.itemgetter(1), reverse=True)\n",
    "    return sortedVotes[0][0]"
   ]
  },
  {
   "cell_type": "code",
   "execution_count": null,
   "metadata": {},
   "outputs": [],
   "source": [
    "response = getResponse(NN)\n",
    "print(response)"
   ]
  },
  {
   "cell_type": "code",
   "execution_count": null,
   "metadata": {},
   "outputs": [],
   "source": []
  }
 ],
 "metadata": {
  "kernelspec": {
   "display_name": "Python 3",
   "language": "python",
   "name": "python3"
  },
  "language_info": {
   "codemirror_mode": {
    "name": "ipython",
    "version": 3
   },
   "file_extension": ".py",
   "mimetype": "text/x-python",
   "name": "python",
   "nbconvert_exporter": "python",
   "pygments_lexer": "ipython3",
   "version": "3.6.5"
  }
 },
 "nbformat": 4,
 "nbformat_minor": 2
}
